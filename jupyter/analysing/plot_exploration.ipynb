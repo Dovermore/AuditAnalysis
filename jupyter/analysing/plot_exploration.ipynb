{
 "cells": [
  {
   "cell_type": "code",
   "execution_count": 2,
   "metadata": {},
   "outputs": [],
   "source": [
    "import scipy as sp\n",
    "import numpy as np"
   ]
  },
  {
   "cell_type": "code",
   "execution_count": 3,
   "metadata": {},
   "outputs": [
    {
     "name": "stdout",
     "output_type": "stream",
     "text": [
      "/Users/Dovermore/.conda/envs/audit_analysis/lib/R\n"
     ]
    }
   ],
   "source": [
    "from scipy.stats import binom\n",
    "\n",
    "# Class to use\n",
    "import sys\n",
    "sys.path.append(\"../../python\")\n",
    "from auditing_setup.election_setting import Election\n",
    "from auditing_setup.audit_methods import *"
   ]
  },
  {
   "cell_type": "markdown",
   "metadata": {},
   "source": [
    "# All boundary for without replacement version"
   ]
  },
  {
   "cell_type": "code",
   "execution_count": 4,
   "metadata": {},
   "outputs": [],
   "source": [
    "election = Election(5000, 500)\n",
    "\n",
    "\n",
    "methods = dict(\n",
    "    bravo070 = BRAVO(0.7,  0.05),\n",
    "    bravo055 = BRAVO(0.55, 0.05),\n",
    "    bravo051 = BRAVO(0.51, 0.05),\n",
    "    bayesian = BetaBayesian(a=1, b=1, critical_value=0.001),\n",
    "    truncated_bayesian = TruncatedBayesian(a=1, b=1, critical_value=0.001),\n",
    "    clip     = Clip(0.05, election=election),\n",
    "    max_bravo = MaxSPRT(0.05)\n",
    ")"
   ]
  },
  {
   "cell_type": "code",
   "execution_count": 8,
   "metadata": {},
   "outputs": [],
   "source": []
  },
  {
   "cell_type": "code",
   "execution_count": null,
   "metadata": {},
   "outputs": [],
   "source": []
  }
 ],
 "metadata": {
  "kernelspec": {
   "display_name": "Python 3",
   "language": "python",
   "name": "python3"
  },
  "language_info": {
   "codemirror_mode": {
    "name": "ipython",
    "version": 3
   },
   "file_extension": ".py",
   "mimetype": "text/x-python",
   "name": "python",
   "nbconvert_exporter": "python",
   "pygments_lexer": "ipython3",
   "version": "3.7.4"
  }
 },
 "nbformat": 4,
 "nbformat_minor": 4
}
